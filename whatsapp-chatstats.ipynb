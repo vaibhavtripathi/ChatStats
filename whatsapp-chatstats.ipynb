{
 "cells": [
  {
   "cell_type": "code",
   "execution_count": 1,
   "metadata": {
    "collapsed": false
   },
   "outputs": [],
   "source": [
    "# Read 'chats' from an input file.\n",
    "chats = []\n",
    "filepath = \"/Users/vaibhavtripathi/Downloads/WhatsApp_Chat.txt\"\n",
    "with open(filepath, 'r') as f:\n",
    "    for line in f:\n",
    "        chats.append(line.strip('\\n '))"
   ]
  },
  {
   "cell_type": "code",
   "execution_count": 2,
   "metadata": {
    "collapsed": false
   },
   "outputs": [],
   "source": [
    "def is_valid(line):\n",
    "    if ': ' in line and ' - ' in line:\n",
    "        return True\n",
    "    return False\n",
    "\n",
    "# Handle multiline chats.\n",
    "modified_chats = []\n",
    "for chat in chats:\n",
    "    if is_valid(chat):\n",
    "        modified_chats.append(chat)\n",
    "    else:\n",
    "        # If line is not a new chat, add it to an earlier chat line. \n",
    "        modified_chats[-1] += \" \"\n",
    "        modified_chats[-1] += chat\n",
    "        \n",
    "chats = modified_chats"
   ]
  },
  {
   "cell_type": "code",
   "execution_count": 3,
   "metadata": {
    "collapsed": false
   },
   "outputs": [],
   "source": [
    "# Convert chat strings into tuple (<date>,<time>,<speaker>,<speech>)\n",
    "org_chats = []\n",
    "\n",
    "for chat in chats:\n",
    "    date_time = chat.split(' - ')[0]\n",
    "    speaker_speech = chat.split(' - ')[1]\n",
    "    date = date_time.split(', ')[0]\n",
    "    time = date_time.split(', ')[1]\n",
    "    speaker = speaker_speech.split(': ')[0]\n",
    "    speech = speaker_speech.split(': ')[1]\n",
    "    org_chats.append((date, time, speaker, speech))\n",
    "\n",
    "chats = org_chats"
   ]
  },
  {
   "cell_type": "code",
   "execution_count": 4,
   "metadata": {
    "collapsed": false
   },
   "outputs": [],
   "source": [
    "# Get messages by day and speaker.\n",
    "def get_message_stats_by_day_speaker(chats):\n",
    "    message_stats = {}\n",
    "    for chat_tuple in chats:\n",
    "        (date, time, speaker, speech) = chat_tuple\n",
    "        if date not in message_stats:\n",
    "            message_stats[date] = {}\n",
    "            message_stats[date][speaker] = 1\n",
    "        else:\n",
    "            if speaker not in message_stats[date]:\n",
    "                message_stats[date][speaker] = 1\n",
    "            else:\n",
    "                message_stats[date][speaker] += 1\n",
    "    return message_stats\n",
    "\n",
    "message_stats = get_message_stats_by_day_speaker(chats)"
   ]
  }
 ],
 "metadata": {
  "anaconda-cloud": {},
  "kernelspec": {
   "display_name": "Python [default]",
   "language": "python",
   "name": "python2"
  },
  "language_info": {
   "codemirror_mode": {
    "name": "ipython",
    "version": 2
   },
   "file_extension": ".py",
   "mimetype": "text/x-python",
   "name": "python",
   "nbconvert_exporter": "python",
   "pygments_lexer": "ipython2",
   "version": "2.7.12"
  }
 },
 "nbformat": 4,
 "nbformat_minor": 1
}
